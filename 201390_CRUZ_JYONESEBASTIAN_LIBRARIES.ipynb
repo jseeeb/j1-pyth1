{
 "cells": [
  {
   "cell_type": "markdown",
   "id": "429fa9aa-0007-409b-95fb-2f06c03eee5a",
   "metadata": {},
   "source": [
    "# Assignment: Libraries\n",
    "\n",
    "This problem set aims to develop your ability to use non-standard libraries such as NumPy, Pandas, Matplotlib, and requests.  \n",
    "\n",
    "Please follow all instructions precisely."
   ]
  },
  {
   "cell_type": "markdown",
   "id": "a02a5721-90ea-491a-aafa-d8aec1619efe",
   "metadata": {},
   "source": [
    "## Prerequisite: Install libraries\n",
    "\n",
    "To do this assignment, you need to have a few libraries installed. You already know how to install libraries in a basic Python virtual environment. In Anaconda, it is even easier.  \n",
    "\n",
    "Install the following libraries:\n",
    "1. Pandas\n",
    "2. Requests\n",
    "3. Matplotlib\n",
    "\n",
    "Follow this tutorial to install external libraries for your Jupyter notebook using the Anaconda Navigator.  \n",
    "\n",
    "https://www.tutorialspoint.com/add-packages-to-anaconda-environment-in-python  \n",
    "\n",
    "Once you are done, run the following cell. If it does nothing (i.e., if it throws no errors), then you may proceed."
   ]
  },
  {
   "cell_type": "code",
   "execution_count": 3,
   "id": "433caeb7-bacc-4d80-ba37-b2e758d59398",
   "metadata": {},
   "outputs": [],
   "source": [
    "# NON-EDITABLE CODE CELL\n",
    "# You may run this cell, but do not edit it.\n",
    "\n",
    "import pandas as pd\n",
    "import numpy as np\n",
    "import matplotlib.pyplot as plt\n",
    "import requests"
   ]
  },
  {
   "cell_type": "markdown",
   "id": "1bb8c29f-c013-4dac-9f10-3f2bd16462af",
   "metadata": {},
   "source": [
    "## Note\n",
    "\n",
    "1. There is a good chance that you will have to look up how to do things using these libraries. This is fine. Just credit your sources appropriately.\n"
   ]
  },
  {
   "cell_type": "markdown",
   "id": "36275084-0c10-443a-9f00-d7110a635653",
   "metadata": {},
   "source": [
    "## Problem 1: Association Rules"
   ]
  },
  {
   "cell_type": "markdown",
   "id": "5c03e744-d021-4eea-9598-d3a70947e330",
   "metadata": {},
   "source": [
    "### Context\n",
    "\n",
    "You are a data consultant for a medium-sized grocery. Your job is to help the grocery's marketing and sales team identify the most frequent purchases of customers.  "
   ]
  },
  {
   "cell_type": "markdown",
   "id": "af8d606e-4ff7-4493-bcb9-c2a4b6844f98",
   "metadata": {},
   "source": [
    "### 1.1\n",
    "\n",
    "Read the file `sample order basket.csv` into a Pandas DataFrame called `df`."
   ]
  },
  {
   "cell_type": "code",
   "execution_count": 4,
   "id": "838a1ba9-095f-4c0c-b068-c05c936d30b2",
   "metadata": {},
   "outputs": [
    {
     "data": {
      "text/html": [
       "<div>\n",
       "<style scoped>\n",
       "    .dataframe tbody tr th:only-of-type {\n",
       "        vertical-align: middle;\n",
       "    }\n",
       "\n",
       "    .dataframe tbody tr th {\n",
       "        vertical-align: top;\n",
       "    }\n",
       "\n",
       "    .dataframe thead th {\n",
       "        text-align: right;\n",
       "    }\n",
       "</style>\n",
       "<table border=\"1\" class=\"dataframe\">\n",
       "  <thead>\n",
       "    <tr style=\"text-align: right;\">\n",
       "      <th></th>\n",
       "      <th>OrderNum</th>\n",
       "      <th>Product</th>\n",
       "    </tr>\n",
       "  </thead>\n",
       "  <tbody>\n",
       "    <tr>\n",
       "      <th>0</th>\n",
       "      <td>1000</td>\n",
       "      <td>eggs</td>\n",
       "    </tr>\n",
       "    <tr>\n",
       "      <th>1</th>\n",
       "      <td>1001</td>\n",
       "      <td>bread</td>\n",
       "    </tr>\n",
       "    <tr>\n",
       "      <th>2</th>\n",
       "      <td>1002</td>\n",
       "      <td>eggs</td>\n",
       "    </tr>\n",
       "    <tr>\n",
       "      <th>3</th>\n",
       "      <td>1002</td>\n",
       "      <td>bread</td>\n",
       "    </tr>\n",
       "    <tr>\n",
       "      <th>4</th>\n",
       "      <td>1002</td>\n",
       "      <td>flour</td>\n",
       "    </tr>\n",
       "    <tr>\n",
       "      <th>5</th>\n",
       "      <td>1003</td>\n",
       "      <td>eggs</td>\n",
       "    </tr>\n",
       "    <tr>\n",
       "      <th>6</th>\n",
       "      <td>1003</td>\n",
       "      <td>jam</td>\n",
       "    </tr>\n",
       "    <tr>\n",
       "      <th>7</th>\n",
       "      <td>1003</td>\n",
       "      <td>bread</td>\n",
       "    </tr>\n",
       "    <tr>\n",
       "      <th>8</th>\n",
       "      <td>1004</td>\n",
       "      <td>eggs</td>\n",
       "    </tr>\n",
       "    <tr>\n",
       "      <th>9</th>\n",
       "      <td>1005</td>\n",
       "      <td>jam</td>\n",
       "    </tr>\n",
       "  </tbody>\n",
       "</table>\n",
       "</div>"
      ],
      "text/plain": [
       "   OrderNum Product\n",
       "0      1000    eggs\n",
       "1      1001   bread\n",
       "2      1002    eggs\n",
       "3      1002   bread\n",
       "4      1002   flour\n",
       "5      1003    eggs\n",
       "6      1003     jam\n",
       "7      1003   bread\n",
       "8      1004    eggs\n",
       "9      1005     jam"
      ]
     },
     "execution_count": 4,
     "metadata": {},
     "output_type": "execute_result"
    }
   ],
   "source": [
    "# CODE CELL\n",
    "\n",
    "# CODE START\n",
    "filename = 'sample order basket.csv'\n",
    "df = pd.read_csv(filename)\n",
    "df.head(10)\n",
    "# CODE END"
   ]
  },
  {
   "cell_type": "markdown",
   "id": "599d6c3e-6530-4fc2-bb86-4911b745e7c8",
   "metadata": {},
   "source": [
    "### 1.2\n",
    "\n",
    "Create a \"binary table\" using a Pandas DataFrame. Save the DataFrame in a variable called `binary_table`.  \n",
    "\n",
    "The specifications of the binary table are as follows:\n",
    "1. The data in the binary table is based on the order log contained in `df`.\n",
    "2. The index values of the binary table are the unique order IDs contained in the sales logs. These are arranged in ascending numerical order. Format the values as `int64`.\n",
    "3. The column values of the binary table are the unique products contained in the sales logs. These are arranged in alphabetical order. Format the values as `object`.\n",
    "4. The values of the binary table are either 0 or 1. A value will be 1 if the respective product is present in the respective order, and it will be 0 if the respective product is not present in the respective order. So, for example: if Order 5 ordered an apple, then the cell at row 5, column apple will have the value 1, and every other cell at row 5 will have the value 0."
   ]
  },
  {
   "cell_type": "code",
   "execution_count": 12,
   "id": "df50d130-7b0f-49aa-83c8-8ac5f75b7488",
   "metadata": {},
   "outputs": [
    {
     "name": "stderr",
     "output_type": "stream",
     "text": [
      "<ipython-input-12-785d7ff07d56>:9: FutureWarning: Indexing with multiple keys (implicitly converted to a tuple of keys) will be deprecated, use a list instead.\n",
      "  binary_table = order_num_cond['bread', 'cheese', 'eggs', 'flour', 'jam'].sum()\n"
     ]
    },
    {
     "data": {
      "text/html": [
       "<div>\n",
       "<style scoped>\n",
       "    .dataframe tbody tr th:only-of-type {\n",
       "        vertical-align: middle;\n",
       "    }\n",
       "\n",
       "    .dataframe tbody tr th {\n",
       "        vertical-align: top;\n",
       "    }\n",
       "\n",
       "    .dataframe thead th {\n",
       "        text-align: right;\n",
       "    }\n",
       "</style>\n",
       "<table border=\"1\" class=\"dataframe\">\n",
       "  <thead>\n",
       "    <tr style=\"text-align: right;\">\n",
       "      <th></th>\n",
       "      <th>bread</th>\n",
       "      <th>cheese</th>\n",
       "      <th>eggs</th>\n",
       "      <th>flour</th>\n",
       "      <th>jam</th>\n",
       "    </tr>\n",
       "    <tr>\n",
       "      <th>OrderNum</th>\n",
       "      <th></th>\n",
       "      <th></th>\n",
       "      <th></th>\n",
       "      <th></th>\n",
       "      <th></th>\n",
       "    </tr>\n",
       "  </thead>\n",
       "  <tbody>\n",
       "    <tr>\n",
       "      <th>1000</th>\n",
       "      <td>0</td>\n",
       "      <td>0</td>\n",
       "      <td>1</td>\n",
       "      <td>0</td>\n",
       "      <td>0</td>\n",
       "    </tr>\n",
       "    <tr>\n",
       "      <th>1001</th>\n",
       "      <td>1</td>\n",
       "      <td>0</td>\n",
       "      <td>0</td>\n",
       "      <td>0</td>\n",
       "      <td>0</td>\n",
       "    </tr>\n",
       "    <tr>\n",
       "      <th>1002</th>\n",
       "      <td>1</td>\n",
       "      <td>0</td>\n",
       "      <td>1</td>\n",
       "      <td>1</td>\n",
       "      <td>0</td>\n",
       "    </tr>\n",
       "    <tr>\n",
       "      <th>1003</th>\n",
       "      <td>1</td>\n",
       "      <td>0</td>\n",
       "      <td>1</td>\n",
       "      <td>0</td>\n",
       "      <td>1</td>\n",
       "    </tr>\n",
       "    <tr>\n",
       "      <th>1004</th>\n",
       "      <td>0</td>\n",
       "      <td>0</td>\n",
       "      <td>1</td>\n",
       "      <td>0</td>\n",
       "      <td>0</td>\n",
       "    </tr>\n",
       "  </tbody>\n",
       "</table>\n",
       "</div>"
      ],
      "text/plain": [
       "          bread  cheese  eggs  flour  jam\n",
       "OrderNum                                 \n",
       "1000          0       0     1      0    0\n",
       "1001          1       0     0      0    0\n",
       "1002          1       0     1      1    0\n",
       "1003          1       0     1      0    1\n",
       "1004          0       0     1      0    0"
      ]
     },
     "execution_count": 12,
     "metadata": {},
     "output_type": "execute_result"
    }
   ],
   "source": [
    "# CODE CELL\n",
    "\n",
    "# CODE START\n",
    "binary_table = df.copy()\n",
    "item_list = np.sort(binary_table.loc[:,'Product'].unique())\n",
    "for item in item_list:\n",
    "    binary_table[item] = binary_table['Product'].str.contains(item).astype(int)\n",
    "order_num_cond = binary_table.groupby('OrderNum')\n",
    "binary_table = order_num_cond['bread', 'cheese', 'eggs', 'flour', 'jam'].sum()\n",
    "binary_table.head()\n",
    "# CODE END|"
   ]
  },
  {
   "cell_type": "markdown",
   "id": "e9d6a095-deaa-4d7d-a787-6a5645bd484a",
   "metadata": {},
   "source": [
    "### 1.3\n",
    "\n",
    "Using `binary_table`, create a report. Store this report in a Pandas DataFrame called `report`.  \n",
    "\n",
    "The specifications of the report are as follows:\n",
    "1. The data in the report is based on the data in `binary_table`.\n",
    "2. The index values of `report` are simply the defaults (i.e., counting up from 0 to whatever number).\n",
    "3. `report` has two columns: `combination` and `count`. The `combination` column will contain tuples that describe an order combination (e.g., (\"apple\", \"eggplant\")). Format the `combination` column as `object`. The `count` column will contain an integer value describing the number of times that this combination appeared in the list of orders. Format the `count` column as `int64`.\n",
    "4. Sort `reports` by `count` in descending order. The order of combinations within each count bracket does not matter.\n",
    "\n",
    "You may use any standard library from Python 3.8 that you feel is necessary to complete this item. (This just means that you can use any standard Python library as long as it was in Python 3.8)."
   ]
  },
  {
   "cell_type": "code",
   "execution_count": 90,
   "id": "972ff7f8-4563-4bed-94dc-fda08996f0d7",
   "metadata": {},
   "outputs": [
    {
     "data": {
      "text/html": [
       "<div>\n",
       "<style scoped>\n",
       "    .dataframe tbody tr th:only-of-type {\n",
       "        vertical-align: middle;\n",
       "    }\n",
       "\n",
       "    .dataframe tbody tr th {\n",
       "        vertical-align: top;\n",
       "    }\n",
       "\n",
       "    .dataframe thead th {\n",
       "        text-align: right;\n",
       "    }\n",
       "</style>\n",
       "<table border=\"1\" class=\"dataframe\">\n",
       "  <thead>\n",
       "    <tr style=\"text-align: right;\">\n",
       "      <th></th>\n",
       "      <th>combination</th>\n",
       "      <th>count</th>\n",
       "    </tr>\n",
       "  </thead>\n",
       "  <tbody>\n",
       "    <tr>\n",
       "      <th>0</th>\n",
       "      <td>(jam,)</td>\n",
       "      <td>83</td>\n",
       "    </tr>\n",
       "    <tr>\n",
       "      <th>1</th>\n",
       "      <td>(eggs,)</td>\n",
       "      <td>78</td>\n",
       "    </tr>\n",
       "    <tr>\n",
       "      <th>2</th>\n",
       "      <td>(eggs, jam)</td>\n",
       "      <td>63</td>\n",
       "    </tr>\n",
       "    <tr>\n",
       "      <th>3</th>\n",
       "      <td>(cheese,)</td>\n",
       "      <td>28</td>\n",
       "    </tr>\n",
       "    <tr>\n",
       "      <th>4</th>\n",
       "      <td>(eggs, flour)</td>\n",
       "      <td>26</td>\n",
       "    </tr>\n",
       "  </tbody>\n",
       "</table>\n",
       "</div>"
      ],
      "text/plain": [
       "     combination  count\n",
       "0         (jam,)     83\n",
       "1        (eggs,)     78\n",
       "2    (eggs, jam)     63\n",
       "3      (cheese,)     28\n",
       "4  (eggs, flour)     26"
      ]
     },
     "execution_count": 90,
     "metadata": {},
     "output_type": "execute_result"
    }
   ],
   "source": [
    "# CODE CELL\n",
    "# a function that will remove all empty strings from a tuple\n",
    "def tuple_cleaner(tuple_df):\n",
    "    tuple_df = list(tuple_df)\n",
    "    while '' in tuple_df:\n",
    "        tuple_df.remove('')\n",
    "    tuple_df = tuple(tuple_df)\n",
    "    return tuple_df\n",
    "# CODE START\n",
    "# create a copy of binary_table\n",
    "binary_copy = binary_table.copy()\n",
    "\n",
    "# take a list of the products derived from the columns of binary_table\n",
    "products_list = list(binary_copy.columns)\n",
    "\n",
    "# replace the 1s with the product name and the 0s with blank strings\n",
    "for product in products_list:\n",
    "    binary_copy[product].replace({1:product,0:''}, inplace=True) \n",
    "\n",
    "# join all the column values into a tuple\n",
    "binary_copy['combination'] = binary_copy[binary_copy.columns[1:]].apply(tuple,axis=1)\n",
    "\n",
    "# apply the tuple_cleaner function\n",
    "binary_copy['combination'] = binary_copy['combination'].apply(tuple_cleaner)\n",
    "\n",
    "# group the data by the combination and do a count()\n",
    "combination_cond = binary_copy.groupby('combination')\n",
    "report = pd.DataFrame(combination_cond['combination'].count())\n",
    "report.rename(columns={'combination':'count'}, inplace=True)\n",
    "report.reset_index(inplace=True)\n",
    "\n",
    "# remove blank tuples \n",
    "report.drop(0, axis=0, inplace=True)\n",
    "\n",
    "# sort the values\n",
    "report.sort_values(by='count',ascending=False,inplace=True)\n",
    "report.reset_index(drop=True,inplace=True)\n",
    "\n",
    "# remove '' in a tuple\n",
    "report.head()\n",
    "# CODE END"
   ]
  },
  {
   "cell_type": "markdown",
   "id": "b378e1e5-5167-496c-b09b-b561066f3823",
   "metadata": {},
   "source": [
    "## Problem 2: A Plot of the International Space Station's Location"
   ]
  },
  {
   "cell_type": "markdown",
   "id": "2a4bd731-165c-4bb7-b88f-41fd795f1bed",
   "metadata": {},
   "source": [
    "We will only be checking the final output of this problem. \n",
    "\n",
    "### Context\n",
    "\n",
    "You are a budding data scientist aiming to try your new tools on real-world data. As a pet project, you have decided that you want to try plotting the latitude and longitude positions of the International Space Station on a chart.  \n",
    "\n",
    "An \"application programming interface\" (API) is an interface (i.e., a point of connection/use) that a program offers to other pieces of software. APIs are how modern computer programs interact. To massively oversimplify the concept, modern applications send and receive HTTP requests and JSON-formatted data to talk to each other.  \n",
    "\n",
    "We will be using the ISS position data API hosted at http://open-notify.org/Open-Notify-API/ISS-Location-Now/ for this item.  \n",
    "\n",
    "You are expected to read the documentation of this API for this item."
   ]
  },
  {
   "cell_type": "markdown",
   "id": "208aa074-94f0-42a1-899b-06754d840497",
   "metadata": {},
   "source": [
    "### 2.1\n",
    "\n",
    "Use the `requests` library and the `time` library to collect position data of the ISS at intervals of 10 seconds over the course of 30 minutes by sending GET requests to the ISS API endpoint.  \n",
    "\n",
    "The specifications of this problem are as follows:\n",
    "1. Send a GET request to the ISS API endpoint once every 10 seconds for 30 minutes. \n",
    "2. Each time you send a GET request, append the returned data to a list called `iss_data`.\n",
    "3. Save all the data to a file called `iss-data.json` so that you do not lose it. You may do this every time you get a request if you wish.\n",
    "4. Do not modify the returned data per GET request.  \n",
    "5. The final file `iss-data.json` should contain roughly 180 data points.\n",
    "\n",
    "We will not be strict about the time intervals. We will only look at the chart that you produce from your data."
   ]
  },
  {
   "cell_type": "code",
   "execution_count": null,
   "id": "43343e88-385c-451b-aae6-e23199bd50e2",
   "metadata": {},
   "outputs": [],
   "source": [
    "# CODE CELL\n",
    "import time\n",
    "import json\n",
    "# CODE START\n",
    "# initialize an empty list for the iss location to be appended to\n",
    "iss_data = []\n",
    "# use the time before the for loop starts running as second 0.\n",
    "starttime = time.time()\n",
    "# for this loop, we send a get request to the ISS API endpoint every 2 seconds for 6 minutes, retrieving 180~ data points.\n",
    "while (time.time() - starttime <= 360):\n",
    "    # r is the json retrieved from the ISS API endpoint\n",
    "    r = requests.get('http://api.open-notify.org/iss-now.json').json()\n",
    "    # we take the iss_position from the json and append it to iss_data list\n",
    "    iss_data.append(r['iss_position'])\n",
    "    # we restart the for loop after 2 second intervals\n",
    "    time.sleep(2.0 - ((time.time() - starttime) % 2.0))\n",
    "    \n",
    "# writing the data from the list into a json file.\n",
    "with open('iss-data.json', 'w') as iss_file:\n",
    "    json.dump(iss_data, iss_file)\n",
    "# CODE END"
   ]
  },
  {
   "cell_type": "markdown",
   "id": "7721f2a9-be28-4428-9555-20ccf4d66e3a",
   "metadata": {},
   "source": [
    "### 2.2\n",
    "\n",
    "Using the data you gathered and stored in `iss-data.json`, make a `matplotlib` plot of the location data.  \n",
    "\n",
    "The specifications of this problem are as follows: \n",
    "1. Use the longitude and latitude data contained in `iss-data.json` as your data.\n",
    "2. Plot this data on a `matplotlib` plot that appropriately visualizes the data. It is up to you what specific plot you want to use as long as we, the human readers of your report, understand the message of your plot.\n",
    "3. Use latitude as the X axis and longitude as the Y axis.  \n",
    "4. VERY IMPORTANT: Make sure that the chart displays in your Jupyter notebook before you submit.  \n",
    "\n",
    "We will only check the chart. We do not care how you make it display as long as you follow the specifications."
   ]
  },
  {
   "cell_type": "code",
   "execution_count": 64,
   "id": "2879d731-8eee-47bf-8cb6-d97daf867acf",
   "metadata": {},
   "outputs": [
    {
     "data": {
      "image/png": "[encoded data removed]",
      "text/plain": [
       "<Figure size 432x288 with 1 Axes>"
      ]
     },
     "metadata": {
      "needs_background": "light"
     },
     "output_type": "display_data"
    }
   ],
   "source": [
    "# CODE CELL\n",
    "import json\n",
    "\n",
    "# CODE START\n",
    "# retrieving the iss location data from the json\n",
    "with open('iss-data.json', 'r') as iss_file:\n",
    "    iss_json = json.loads(iss_file.read())\n",
    "    \n",
    "# using a list comprehension to use the latitude and longitude values as the axes for the plot\n",
    "x = [float(i['latitude']) for i in iss_json]\n",
    "y = [float(i['longitude']) for i in iss_json]\n",
    "plt.plot(x, y, 'r--', label = 'ISS Position')\n",
    "\n",
    "# using the min and max values for each axes, we set up their ticks to make the data easier to look at\n",
    "plt.xticks(np.arange(min(x), max(x)+1, 0.5))\n",
    "plt.yticks(np.arange(min(y), max(y)+1, 5.0))\n",
    "plt.title('ISS Position')\n",
    "plt.xlabel('ISS Latitude')\n",
    "plt.ylabel('ISS Longitude')\n",
    "\n",
    "# a legend is placed on the bottom-right corner to make the plot user-friendly.\n",
    "plt.legend(loc=4)\n",
    "plt.show()\n",
    "# CODE END"
   ]
  }
 ],
 "metadata": {
  "kernelspec": {
   "display_name": "Python 3",
   "language": "python",
   "name": "python3"
  },
  "language_info": {
   "codemirror_mode": {
    "name": "ipython",
    "version": 3
   },
   "file_extension": ".py",
   "mimetype": "text/x-python",
   "name": "python",
   "nbconvert_exporter": "python",
   "pygments_lexer": "ipython3",
   "version": "3.8.8"
  }
 },
 "nbformat": 4,
 "nbformat_minor": 5
}
